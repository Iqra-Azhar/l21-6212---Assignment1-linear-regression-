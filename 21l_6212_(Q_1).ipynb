{
  "nbformat": 4,
  "nbformat_minor": 0,
  "metadata": {
    "colab": {
      "provenance": []
    },
    "kernelspec": {
      "name": "python3",
      "display_name": "Python 3"
    },
    "language_info": {
      "name": "python"
    }
  },
  "cells": [
    {
      "cell_type": "code",
      "execution_count": 1,
      "metadata": {
        "colab": {
          "base_uri": "https://localhost:8080/"
        },
        "id": "pS9E6YBCtgo5",
        "outputId": "79c644cd-2601-46e9-8f82-3954c2757a53"
      },
      "outputs": [
        {
          "output_type": "stream",
          "name": "stdout",
          "text": [
            "3\n",
            "3\n",
            "True\n",
            "None\n"
          ]
        }
      ],
      "source": [
        "import pandas as pd\n",
        "import numpy as np\n",
        "def check_input(C):\n",
        "  is_check=False\n",
        "  i=0\n",
        "  j=0\n",
        "  n=len(C)\n",
        "  for j in range(n):\n",
        "          for i in range(n-1):\n",
        "            if C[i][j] == C[i+1][j]:\n",
        "              print(C[i][j])\n",
        "              print(C[i+1][j])\n",
        "              is_check=False\n",
        "            else:\n",
        "             is_check=True\n",
        "  if is_check==True:\n",
        "   for i in range(n):\n",
        "          for j in range(n-1):\n",
        "            if C[j][i] == C[j+1][i]:\n",
        "              is_check=False\n",
        "            else:\n",
        "             is_check=True\n",
        "  if is_check==True:\n",
        "    print(\"True\")\n",
        "  else:\n",
        "    print(\"False\")\n",
        "\n",
        "\n",
        "test1 = [[1, 2, 3],\n",
        "        [2, 3, 1],\n",
        "        [3, 1, 2]]\n",
        "\n",
        "test2 = [[1, 2, 3, 4],\n",
        "        [2, 3, 1, 3],\n",
        "        [3, 1, 2, 3],\n",
        "        [4, 4, 4, 4]]\n",
        "test3 = [['a', 'b', 'c'],\n",
        "        ['b', 'c', 'a'],\n",
        "        ['c', 'a', 'b']]\n",
        "\n",
        "#print(check_input(test1)) # must return true\n",
        "print(check_input(test2)) # must return false\n",
        "#print(check_input(test3)) # must return false"
      ]
    }
  ]
}