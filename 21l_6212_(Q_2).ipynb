{
  "nbformat": 4,
  "nbformat_minor": 0,
  "metadata": {
    "colab": {
      "provenance": []
    },
    "kernelspec": {
      "name": "python3",
      "display_name": "Python 3"
    },
    "language_info": {
      "name": "python"
    }
  },
  "cells": [
    {
      "cell_type": "code",
      "source": [
        "\n"
      ],
      "metadata": {
        "id": "OfKFFMw7V5-g"
      },
      "execution_count": null,
      "outputs": []
    },
    {
      "cell_type": "code",
      "source": [
        "import pandas as pd\n",
        "import numpy as np\n",
        "df=pd.read_csv(\"/content/StudentMarkSheet.csv\")\n",
        "\n",
        "#total rows\n",
        "x=len(df)\n",
        "\n",
        "\n",
        "#removing empty rows\n",
        "df.dropna(inplace = True)\n",
        "print(df)\n",
        "\n",
        "#non empty rows\n",
        "y=len(df)\n",
        "\n",
        "#no.of empty rows\n",
        "z=x-y\n",
        "\n",
        "print(\"\\n\")\n",
        "# row information\n",
        "print(\"rows before removing \",x)\n",
        "print(\"rows containing null data\",z)\n",
        "print(\"rows after removing\",y)\n",
        "\n",
        "print(\"\\n\")\n",
        "#record display\n",
        "df=df[df['Student name'].str.contains('James Walker')]\n",
        "print(df)\n",
        "\n"
      ],
      "metadata": {
        "id": "04ntXEoPlE9N",
        "colab": {
          "base_uri": "https://localhost:8080/"
        },
        "outputId": "1f6afbf4-35b3-4711-a556-a6463f761a53"
      },
      "execution_count": null,
      "outputs": [
        {
          "output_type": "stream",
          "name": "stdout",
          "text": [
            "        Student name  Exam name   Exam date  Marks\n",
            "0       James Walker    Biology  05/06/2016   31.0\n",
            "1      Velma Clemons    Biology  05/06/2016   43.0\n",
            "2     Kibo Underwood    Biology  05/06/2016   81.0\n",
            "3        Louis Mcgee    Biology  05/06/2016   11.0\n",
            "4       Phyllis Paul    Biology  05/06/2016   18.0\n",
            "..               ...        ...         ...    ...\n",
            "195       Yen Bowers  Sociology  21/06/2016   52.0\n",
            "196        Ryan Pena  Sociology  21/06/2016   16.0\n",
            "197  Portia Hamilton  Sociology  21/06/2016   34.0\n",
            "198  Sydnee Chambers  Sociology  21/06/2016   76.0\n",
            "199      Stacy Small  Sociology  21/06/2016   96.0\n",
            "\n",
            "[196 rows x 4 columns]\n",
            "\n",
            "\n",
            "rows before removing  200\n",
            "rows containing null data 4\n",
            "rows after removing 196\n",
            "\n",
            "\n",
            "     Student name    Exam name   Exam date  Marks\n",
            "0    James Walker      Biology  05/06/2016   31.0\n",
            "42   James Walker    Chemistry  15/06/2016   61.0\n",
            "71   James Walker  Mathematics  29/07/2016   23.0\n",
            "150  James Walker      Physics  10/06/2016  100.0\n",
            "180  James Walker    Sociology  21/06/2016   73.0\n"
          ]
        }
      ]
    },
    {
      "cell_type": "code",
      "source": [],
      "metadata": {
        "id": "hUK46EE0lS0H"
      },
      "execution_count": null,
      "outputs": []
    },
    {
      "cell_type": "code",
      "source": [],
      "metadata": {
        "id": "9ATmGhT3l0yP"
      },
      "execution_count": null,
      "outputs": []
    }
  ]
}