{
  "nbformat": 4,
  "nbformat_minor": 0,
  "metadata": {
    "colab": {
      "provenance": []
    },
    "kernelspec": {
      "name": "python3",
      "display_name": "Python 3"
    },
    "language_info": {
      "name": "python"
    }
  },
  "cells": [
    {
      "cell_type": "code",
      "execution_count": 8,
      "metadata": {
        "colab": {
          "base_uri": "https://localhost:8080/",
          "height": 543
        },
        "id": "m2vuQ7Apx3my",
        "outputId": "5497f38d-9243-4b36-ac63-6b9818aa1d03"
      },
      "outputs": [
        {
          "output_type": "stream",
          "name": "stdout",
          "text": [
            "        Student name  Exam name   Exam date  Marks\n",
            "0       James Walker    Biology  05/06/2016   31.0\n",
            "1      Velma Clemons    Biology  05/06/2016   43.0\n",
            "2     Kibo Underwood    Biology  05/06/2016   81.0\n",
            "3        Louis Mcgee    Biology  05/06/2016   11.0\n",
            "4       Phyllis Paul    Biology  05/06/2016   18.0\n",
            "..               ...        ...         ...    ...\n",
            "195       Yen Bowers  Sociology  21/06/2016   52.0\n",
            "196        Ryan Pena  Sociology  21/06/2016   16.0\n",
            "197  Portia Hamilton  Sociology  21/06/2016   34.0\n",
            "198  Sydnee Chambers  Sociology  21/06/2016   76.0\n",
            "199      Stacy Small  Sociology  21/06/2016   96.0\n",
            "\n",
            "[196 rows x 4 columns]\n",
            "\n",
            "\n"
          ]
        },
        {
          "output_type": "display_data",
          "data": {
            "text/plain": [
              "<Figure size 432x288 with 1 Axes>"
            ],
            "image/png": "[encoded data removed]"
          },
          "metadata": {
            "needs_background": "light"
          }
        }
      ],
      "source": [
        "import pandas as pd\n",
        "import numpy as np\n",
        "import matplotlib.pyplot as plt\n",
        "\n",
        "df=pd.read_csv(\"/content/StudentMarkSheet.csv\")\n",
        "\n",
        "#data frame\n",
        "df.dropna(inplace = True)\n",
        "print(df)\n",
        "\n",
        "\n",
        "\n",
        "#averages\n",
        "B= df[df['Exam name']=='Biology']['Marks'].mean()\n",
        "\n",
        "M= df[df['Exam name']=='Mathematics']['Marks'].mean()\n",
        "\n",
        "C= df[df['Exam name']=='Chemistry']['Marks'].mean()\n",
        "\n",
        "P= df[df['Exam name']=='Physics']['Marks'].mean()\n",
        "\n",
        "PH= df[df['Exam name']=='Philosophy']['Marks'].mean()\n",
        "\n",
        "S= df[df['Exam name']=='Sociology']['Marks'].mean()\n",
        "\n",
        "#graph plotting\n",
        "print(\"\\n\")\n",
        "\n",
        "x=np.array([\"B\",\"M\",\"C\",\"P\",\"PH\",\"S\"])\n",
        "y=np.array([B,M,C,P,PH,S])\n",
        "\n",
        "plt.bar(x,y, color='purple')\n",
        "plt.show()\n",
        "\n",
        "\n"
      ]
    }
  ]
}